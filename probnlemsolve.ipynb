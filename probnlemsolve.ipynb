{
  "nbformat": 4,
  "nbformat_minor": 0,
  "metadata": {
    "colab": {
      "provenance": []
    },
    "kernelspec": {
      "name": "python3",
      "display_name": "Python 3"
    },
    "language_info": {
      "name": "python"
    }
  },
  "cells": [
    {
      "cell_type": "code",
      "execution_count": null,
      "metadata": {
        "colab": {
          "base_uri": "https://localhost:8080/"
        },
        "id": "5MLPE73mIyPU",
        "outputId": "14b27a26-ddf1-4f81-8368-e881dc77e4ec"
      },
      "outputs": [
        {
          "output_type": "stream",
          "name": "stdout",
          "text": [
            "The sum all the items: 46\n"
          ]
        }
      ],
      "source": [
        "#Write a Python program to sum all the items in a list.\n",
        "x=[1,2,5,7,9,10,12]\n",
        "total = 0\n",
        "for i in x:\n",
        "  total+=i\n",
        "print('The sum all the items:',total)"
      ]
    },
    {
      "cell_type": "code",
      "source": [
        "x=[1,3,4,5,10,12]\n",
        "def fun():\n",
        "  total= 0\n",
        "  for i in x:\n",
        "    total+=i\n",
        "\n",
        "print('The sum all he items:',total)\n",
        "fun()\n",
        "\n",
        "\n"
      ],
      "metadata": {
        "colab": {
          "base_uri": "https://localhost:8080/"
        },
        "id": "PAw__t5VJYDl",
        "outputId": "55db2602-8840-4695-8983-68d498507c5e"
      },
      "execution_count": null,
      "outputs": [
        {
          "output_type": "stream",
          "name": "stdout",
          "text": [
            "The sum all he items: 46\n"
          ]
        }
      ]
    },
    {
      "cell_type": "code",
      "source": [
        "#Write a Python program to multiplies all the items in a list.\n",
        "x=[1,2,4,5,7,8,12,19,20]\n",
        "multi=1\n",
        "for i in x:\n",
        "  multi*=i\n",
        "print('The multiplies all the item in a list',multi)"
      ],
      "metadata": {
        "colab": {
          "base_uri": "https://localhost:8080/"
        },
        "id": "KNALsaVCJ-qo",
        "outputId": "5de7e533-fd18-4e21-a250-8e26de43a416"
      },
      "execution_count": null,
      "outputs": [
        {
          "output_type": "stream",
          "name": "stdout",
          "text": [
            "The multiplies all the item in a list 10214400\n"
          ]
        }
      ]
    },
    {
      "cell_type": "code",
      "source": [
        "x=[1,2,3,4,5,7,10,12,19,20]\n",
        "def fun():\n",
        "  multi=1\n",
        "  for i in x:\n",
        "    multi*=i\n",
        "print('The multiples all the items:',multi)\n",
        "fun()\n",
        "\n"
      ],
      "metadata": {
        "colab": {
          "base_uri": "https://localhost:8080/"
        },
        "id": "y0LMIchSKTX9",
        "outputId": "d932945e-9413-4654-8e03-cd1520a55716"
      },
      "execution_count": null,
      "outputs": [
        {
          "output_type": "stream",
          "name": "stdout",
          "text": [
            "The multiples all the items: 10214400\n"
          ]
        }
      ]
    },
    {
      "cell_type": "code",
      "source": [
        "#Write a Python program to get the largest number from a list.\n",
        "x=[1,4,9,10,12,18,20]\n",
        "largest=x[0]\n",
        "for i in x:\n",
        "  if i>largest:\n",
        "    largest=i\n",
        "print('The largest number is:',largest)"
      ],
      "metadata": {
        "colab": {
          "base_uri": "https://localhost:8080/"
        },
        "id": "DID8XMuRK4kp",
        "outputId": "41abde76-ca68-45d1-cbef-a79ca578343d"
      },
      "execution_count": null,
      "outputs": [
        {
          "output_type": "stream",
          "name": "stdout",
          "text": [
            "The largest number is: 20\n"
          ]
        }
      ]
    },
    {
      "cell_type": "code",
      "source": [
        "x=[1,2,5,8,9,10,15,19,20]\n",
        "def fun():\n",
        "  largest=x[0]\n",
        "  for i in x:\n",
        "    if i>largest:\n",
        "      largest=i\n",
        "print('The largest number is:',largest)\n",
        "fun()"
      ],
      "metadata": {
        "colab": {
          "base_uri": "https://localhost:8080/"
        },
        "id": "x5NTnAVvLaTt",
        "outputId": "ce1ac5e9-11d3-4c5d-bd99-c145baa06b04"
      },
      "execution_count": null,
      "outputs": [
        {
          "output_type": "stream",
          "name": "stdout",
          "text": [
            "The largest number is: 20\n"
          ]
        }
      ]
    },
    {
      "cell_type": "code",
      "source": [
        "#Write a Python program to get the smallest number from a list.\n",
        "x=[1,5,19,20,25,39]\n",
        "small=x[0]\n",
        "for i in x:\n",
        "  if i<small:\n",
        "    small=i\n",
        "print('The smallest nuumber is',small)"
      ],
      "metadata": {
        "colab": {
          "base_uri": "https://localhost:8080/"
        },
        "id": "u3Daz-2OL2is",
        "outputId": "29c8fd7c-f341-4a51-81c1-5bb565d1401c"
      },
      "execution_count": null,
      "outputs": [
        {
          "output_type": "stream",
          "name": "stdout",
          "text": [
            "The smallest nuumber is 1\n"
          ]
        }
      ]
    },
    {
      "cell_type": "code",
      "source": [
        "x=[1,3,18,19,25,30]\n",
        "def fun():\n",
        "  small=x[0]\n",
        "  for i in x:\n",
        "    if i<small:\n",
        "      small=i\n",
        "print('The smallest number is:',small)\n",
        "fun()"
      ],
      "metadata": {
        "colab": {
          "base_uri": "https://localhost:8080/"
        },
        "id": "nIGgvv2WMH8b",
        "outputId": "732cf83c-cbe0-4bfe-919d-c48929e01d97"
      },
      "execution_count": null,
      "outputs": [
        {
          "output_type": "stream",
          "name": "stdout",
          "text": [
            "The smallest number is: 1\n"
          ]
        }
      ]
    },
    {
      "cell_type": "code",
      "source": [
        "#Write a Python program to count the number of strings where the string lengt is 2 or more and the first and last character are same from a given list of strings.\n",
        "x=['omi','tanvir','nyone','panna','sazib']\n",
        "count=0\n",
        "for i in x:\n",
        "  if len(i)>=2 and i[0]==i[-1]:\n",
        "    count+=1\n",
        "print('The list is:',count)"
      ],
      "metadata": {
        "colab": {
          "base_uri": "https://localhost:8080/"
        },
        "id": "qspm4GrXMZEX",
        "outputId": "9d776707-76b7-4566-9fc9-891ea114e658"
      },
      "execution_count": null,
      "outputs": [
        {
          "output_type": "stream",
          "name": "stdout",
          "text": [
            "The list is: 0\n"
          ]
        }
      ]
    },
    {
      "cell_type": "code",
      "source": [
        "x=['omi','tanvir','nyone','panna','sazib']\n",
        "def fun():\n",
        "  count=0\n",
        "  for i in x:\n",
        "    if len(i)>=2 and i[0]==i[-1]:\n",
        "      count+=1\n",
        "print('The list is:',count)\n",
        "fun()"
      ],
      "metadata": {
        "colab": {
          "base_uri": "https://localhost:8080/"
        },
        "id": "Efdr9vU7NQ3m",
        "outputId": "4fce2cb6-a478-4159-9e38-a7826a542c43"
      },
      "execution_count": null,
      "outputs": [
        {
          "output_type": "stream",
          "name": "stdout",
          "text": [
            "The list is: 0\n"
          ]
        }
      ]
    },
    {
      "cell_type": "code",
      "source": [
        "#Write a Python program to get a list, sorted in increasing order by the last element in each tuple from a given list of non-empty tuples.\n",
        "\n",
        "x = [(2, 5), (1, 2), (4, 4), (2, 3), (2, 1)]\n",
        "\n",
        "for i in range(len(x)):\n",
        "    for j in range(len(x) - 1):\n",
        "        if x[j][-1] > x[j + 1][-1]:\n",
        "            x[j], x[j + 1] = x[j + 1], x[j]\n",
        "\n",
        "print('Order by the last element:', x)\n"
      ],
      "metadata": {
        "colab": {
          "base_uri": "https://localhost:8080/"
        },
        "id": "ayhtMaa5Nw1S",
        "outputId": "ce9e4b13-2f34-4baa-f017-9630ccf67ffa"
      },
      "execution_count": null,
      "outputs": [
        {
          "output_type": "stream",
          "name": "stdout",
          "text": [
            "Order by the last element: [(2, 1), (1, 2), (2, 3), (4, 4), (2, 5)]\n"
          ]
        }
      ]
    },
    {
      "cell_type": "code",
      "source": [
        "x = [(2, 5), (1, 2), (4, 4), (2, 3), (2, 1)]\n",
        "def fun():\n",
        "  for i in range(len(x)):\n",
        "    for j in range(len(x)-1):\n",
        "      if x[j][-1]>x[j+1][-1]:\n",
        "        x[j],x[j+1]=x[j+1],x[j]\n",
        "print('Order by the last element:',x)\n",
        "fun()\n"
      ],
      "metadata": {
        "colab": {
          "base_uri": "https://localhost:8080/"
        },
        "id": "PCeUnyc_PeX9",
        "outputId": "3fd1a34d-a104-4b96-c98e-9f92ed235078"
      },
      "execution_count": null,
      "outputs": [
        {
          "output_type": "stream",
          "name": "stdout",
          "text": [
            "Order by the last element: [(2, 5), (1, 2), (4, 4), (2, 3), (2, 1)]\n"
          ]
        }
      ]
    },
    {
      "cell_type": "code",
      "source": [
        "#Write a Python program to remove duplicates from a list.\n",
        "x=[1,2,3,4,5,1,2,9,10]\n",
        "dupli_number=[]\n",
        "for i in x:\n",
        "  if i not in dupli_number:\n",
        "    dupli_number.append(i)\n",
        "print('Remove duplicate numbers:',dupli_number)"
      ],
      "metadata": {
        "colab": {
          "base_uri": "https://localhost:8080/"
        },
        "id": "v6SxIKplQrRd",
        "outputId": "b9af36bd-0c91-47f7-ba2c-63c6dbbc315d"
      },
      "execution_count": null,
      "outputs": [
        {
          "output_type": "stream",
          "name": "stdout",
          "text": [
            "Remove duplicate numbers: [1, 2, 3, 4, 5, 9, 10]\n"
          ]
        }
      ]
    },
    {
      "cell_type": "code",
      "source": [
        "x=[1,2,3,4,5,1,2,9,10]\n",
        "def fun():\n",
        "  dupli_num=[]\n",
        "  for i in x:\n",
        "    if i not in dupli_num:\n",
        "      dupli_num.append(i)\n",
        "  print('Remove duplicate numbers:',dupli_num)\n",
        "fun()"
      ],
      "metadata": {
        "colab": {
          "base_uri": "https://localhost:8080/"
        },
        "id": "nMPb1Q3DRMaM",
        "outputId": "c3f9f8e4-59b7-4430-f883-caa6b2abbcba"
      },
      "execution_count": null,
      "outputs": [
        {
          "output_type": "stream",
          "name": "stdout",
          "text": [
            "Remove duplicate numbers: [1, 2, 3, 4, 5, 9, 10]\n"
          ]
        }
      ]
    },
    {
      "cell_type": "code",
      "source": [
        "x=[1,2,3,4,5]\n",
        "y=[]\n",
        "if not y:\n",
        "  print('Not Empty list')\n",
        "else:\n",
        "  print(' empty list')"
      ],
      "metadata": {
        "colab": {
          "base_uri": "https://localhost:8080/"
        },
        "id": "JzwL2gdPSTzr",
        "outputId": "3af04086-09b9-4bc1-cd1f-c03755089e4f"
      },
      "execution_count": null,
      "outputs": [
        {
          "output_type": "stream",
          "name": "stdout",
          "text": [
            "Not Empty list\n"
          ]
        }
      ]
    },
    {
      "cell_type": "code",
      "source": [
        "x=[1,2,3,4,5]\n",
        "def fun():\n",
        "  y=[]\n",
        "  if not y:\n",
        "    print('Not empty list')\n",
        "  else:\n",
        "    print('Empty list')\n",
        "fun()"
      ],
      "metadata": {
        "colab": {
          "base_uri": "https://localhost:8080/"
        },
        "id": "cV4K1yhkS9Pq",
        "outputId": "ae9ecd7f-530d-4965-c547-053196966c93"
      },
      "execution_count": null,
      "outputs": [
        {
          "output_type": "stream",
          "name": "stdout",
          "text": [
            "Not empty list\n"
          ]
        }
      ]
    },
    {
      "cell_type": "code",
      "source": [
        "#Write a Python program to clone or copy a list.\n",
        "x=[1,2,3,4,5]\n",
        "copy_list=x[ : ]\n",
        "print('copy list given:',copy_list)"
      ],
      "metadata": {
        "colab": {
          "base_uri": "https://localhost:8080/"
        },
        "id": "DQD-SroDTaOd",
        "outputId": "c9cba953-8ca3-4844-8426-04b79b69d445"
      },
      "execution_count": null,
      "outputs": [
        {
          "output_type": "stream",
          "name": "stdout",
          "text": [
            "copy list given: [1, 2, 3, 4, 5]\n"
          ]
        }
      ]
    },
    {
      "cell_type": "code",
      "source": [
        "x=[1,2,3,4,5,6]\n",
        "def fun():\n",
        "  copy_list=x[ : ]\n",
        "  print('Copy list given',copy_list)\n",
        "fun()"
      ],
      "metadata": {
        "colab": {
          "base_uri": "https://localhost:8080/"
        },
        "id": "THGwJoSZT2rq",
        "outputId": "e9cc07c8-52e1-4c2f-93c1-435301acbdc7"
      },
      "execution_count": null,
      "outputs": [
        {
          "output_type": "stream",
          "name": "stdout",
          "text": [
            "Copy list given [1, 2, 3, 4, 5, 6]\n"
          ]
        }
      ]
    },
    {
      "cell_type": "code",
      "source": [
        "#Write a Python program to find the list of words that are longer than n from a given list of words.\n",
        "x=['omi','tanvir','shadat','roniul','sunny','sajib']\n",
        "long_list=[]\n",
        "n=5\n",
        "for i in x:\n",
        "  if len(i)>n:\n",
        "    long_list.append(i)\n",
        "print('The list were given',long_list)"
      ],
      "metadata": {
        "colab": {
          "base_uri": "https://localhost:8080/"
        },
        "id": "LR6_rsf6UjiF",
        "outputId": "3b2cebf9-ce54-4c57-b12f-6191a1b7ee28"
      },
      "execution_count": null,
      "outputs": [
        {
          "output_type": "stream",
          "name": "stdout",
          "text": [
            "The list were given ['tanvir', 'shadat', 'roniul']\n"
          ]
        }
      ]
    },
    {
      "cell_type": "code",
      "source": [
        "x=['omi','tanvir','shadat','robiul','sunny','sajib']\n",
        "def fun():\n",
        "  long_list=[]\n",
        "  n=4\n",
        "  for i in x:\n",
        "    if len(i)>n:\n",
        "      long_list.append(i)\n",
        "  print('Thelist were given',long_list)\n",
        "fun()\n"
      ],
      "metadata": {
        "colab": {
          "base_uri": "https://localhost:8080/"
        },
        "id": "pDSDaYkAU_zC",
        "outputId": "58194342-ca77-4fbe-ab74-460a42264dc9"
      },
      "execution_count": null,
      "outputs": [
        {
          "output_type": "stream",
          "name": "stdout",
          "text": [
            "Thelist were given ['tanvir', 'shadat', 'robiul', 'sunny', 'sajib']\n"
          ]
        }
      ]
    },
    {
      "cell_type": "code",
      "source": [
        "#Write a Python function that takes two lists and returns True if they have at least one common member.\n",
        "x=[1,2,3,4,5,6]\n",
        "y=[2,3,4,5]\n",
        "common=False\n",
        "for i in x:\n",
        "  if i in y:\n",
        "    common=True\n",
        "    break\n",
        "print(common)\n"
      ],
      "metadata": {
        "colab": {
          "base_uri": "https://localhost:8080/"
        },
        "id": "aN2bkSojcc42",
        "outputId": "4b739dca-99b6-4e2f-d115-0e6abd61e1aa"
      },
      "execution_count": null,
      "outputs": [
        {
          "output_type": "stream",
          "name": "stdout",
          "text": [
            "True\n"
          ]
        }
      ]
    },
    {
      "cell_type": "code",
      "source": [
        "x=[1,2,3,4]\n",
        "y=[5,6,7,8]\n",
        "def fn():\n",
        "  common=False\n",
        "  for i in x:\n",
        "    if i in y:\n",
        "      common=True\n",
        "      break\n",
        "  print(common)\n",
        "fn()"
      ],
      "metadata": {
        "colab": {
          "base_uri": "https://localhost:8080/"
        },
        "id": "02BvO_jBdNSj",
        "outputId": "aac590f9-4e70-4b39-b359-82d667424b52"
      },
      "execution_count": null,
      "outputs": [
        {
          "output_type": "stream",
          "name": "stdout",
          "text": [
            "False\n"
          ]
        }
      ]
    },
    {
      "cell_type": "code",
      "source": [
        "#Write a Python program to print a specified list after removing the 0th, 4th and 5th elements.\n",
        "x=['omis','Shahadat','Robiul']\n",
        "y=[]\n",
        "for i in range(len(x)):\n",
        "  if i not in range(0,4,5):\n",
        "    y.append(x[i])\n",
        "print(y)"
      ],
      "metadata": {
        "colab": {
          "base_uri": "https://localhost:8080/"
        },
        "id": "gU2XdztceFZ8",
        "outputId": "b643a5b4-4584-4800-f069-9d63ffc36cf3"
      },
      "execution_count": null,
      "outputs": [
        {
          "output_type": "stream",
          "name": "stdout",
          "text": [
            "['Shahadat', 'Robiul']\n"
          ]
        }
      ]
    },
    {
      "cell_type": "code",
      "source": [
        "x=['omis','robiul','shahadat']\n",
        "def fun():\n",
        "  y=[]\n",
        "  for i in range(len(x)):\n",
        "    if i not in range(0,4,5):\n",
        "      y.append(x[i])\n",
        "  print(y)\n",
        "fun()"
      ],
      "metadata": {
        "colab": {
          "base_uri": "https://localhost:8080/"
        },
        "id": "ptBZMYGhfI6m",
        "outputId": "a874a7e4-6edb-429d-925e-d4874bd1ccd9"
      },
      "execution_count": null,
      "outputs": [
        {
          "output_type": "stream",
          "name": "stdout",
          "text": [
            "['robiul', 'shahadat']\n"
          ]
        }
      ]
    },
    {
      "cell_type": "code",
      "source": [
        "#Write a Python program to print the numbers of a specified list after removing even numbers from it.\n",
        "x=[1,2,34,5,8,10]\n",
        "odd_list=[]\n",
        "for i in x:\n",
        "  if i%2!=0:\n",
        "    odd_list.append(i)\n",
        "print('odd list given',odd_list)"
      ],
      "metadata": {
        "colab": {
          "base_uri": "https://localhost:8080/"
        },
        "id": "BNLK7IJerkHT",
        "outputId": "363f9fd0-a156-4ea1-e645-fceed44e9efb"
      },
      "execution_count": null,
      "outputs": [
        {
          "output_type": "stream",
          "name": "stdout",
          "text": [
            "odd list given [1, 5]\n"
          ]
        }
      ]
    },
    {
      "cell_type": "code",
      "source": [
        "x=[1,2,3,5,8,10,13,15]\n",
        "def fun():\n",
        "  odd_list=[]\n",
        "  for i in x:\n",
        "    if i%2!=0:\n",
        "      odd_list.append(i)\n",
        "  print('odd list is given',odd_list)\n",
        "fun()"
      ],
      "metadata": {
        "colab": {
          "base_uri": "https://localhost:8080/"
        },
        "id": "6ybpVdbir7LJ",
        "outputId": "49e424a1-2f88-4141-aa90-0ef2e81fff0a"
      },
      "execution_count": null,
      "outputs": [
        {
          "output_type": "stream",
          "name": "stdout",
          "text": [
            "odd list is given [1, 3, 5, 13, 15]\n"
          ]
        }
      ]
    },
    {
      "cell_type": "code",
      "source": [
        "#Write a Python program to generate and print a list except for the first 5 elements, where the values are square of numbers between 1 and 30 (both included).\n",
        "x=[]\n",
        "for i in range(1,31):\n",
        "  x.append(i**2)\n",
        "print (x[5 : ])\n",
        "\n"
      ],
      "metadata": {
        "colab": {
          "base_uri": "https://localhost:8080/"
        },
        "id": "S9YBkg-bsNSg",
        "outputId": "f6d3571e-3993-45a9-fa80-bef384a74b7c"
      },
      "execution_count": null,
      "outputs": [
        {
          "output_type": "stream",
          "name": "stdout",
          "text": [
            "[36, 49, 64, 81, 100, 121, 144, 169, 196, 225, 256, 289, 324, 361, 400, 441, 484, 529, 576, 625, 676, 729, 784, 841, 900]\n"
          ]
        }
      ]
    },
    {
      "cell_type": "code",
      "source": [
        "def fun():\n",
        "  x=[]\n",
        "  for i in range(1,31):\n",
        "    x.append(i**2)\n",
        "  print('square of numbers is',x[5 : ])\n",
        "fun()\n"
      ],
      "metadata": {
        "colab": {
          "base_uri": "https://localhost:8080/"
        },
        "id": "Ehswg79as5WX",
        "outputId": "e8c86fe6-7e26-44ea-fc12-b591d3f5a976"
      },
      "execution_count": null,
      "outputs": [
        {
          "output_type": "stream",
          "name": "stdout",
          "text": [
            "square of numbers is [36, 49, 64, 81, 100, 121, 144, 169, 196, 225, 256, 289, 324, 361, 400, 441, 484, 529, 576, 625, 676, 729, 784, 841, 900]\n"
          ]
        }
      ]
    },
    {
      "cell_type": "code",
      "source": [
        "#Write a Python program to generate all permutations of a list in Python.\n",
        "import itertools\n",
        "\n",
        "x = [1, 2, 3, 4]\n",
        "\n",
        "permutations = list(itertools.permutations(x))\n",
        "\n",
        "print('Permutations of the list are:', permutations)\n",
        "\n",
        "\n"
      ],
      "metadata": {
        "colab": {
          "base_uri": "https://localhost:8080/"
        },
        "id": "KdFZKgqutNjE",
        "outputId": "4c6cc963-f509-4eab-e761-dbd697dbdc09"
      },
      "execution_count": null,
      "outputs": [
        {
          "output_type": "stream",
          "name": "stdout",
          "text": [
            "Permutations of the list are: [(1, 2, 3, 4), (1, 2, 4, 3), (1, 3, 2, 4), (1, 3, 4, 2), (1, 4, 2, 3), (1, 4, 3, 2), (2, 1, 3, 4), (2, 1, 4, 3), (2, 3, 1, 4), (2, 3, 4, 1), (2, 4, 1, 3), (2, 4, 3, 1), (3, 1, 2, 4), (3, 1, 4, 2), (3, 2, 1, 4), (3, 2, 4, 1), (3, 4, 1, 2), (3, 4, 2, 1), (4, 1, 2, 3), (4, 1, 3, 2), (4, 2, 1, 3), (4, 2, 3, 1), (4, 3, 1, 2), (4, 3, 2, 1)]\n"
          ]
        }
      ]
    },
    {
      "cell_type": "code",
      "source": [
        "import itertools\n",
        "x=[1,2,3,4]\n",
        "def fun(y):\n",
        "  permutations=list(itertools.permutations(y))\n",
        "  return permutations\n",
        "print('Permutations of the list:',fun(x))"
      ],
      "metadata": {
        "colab": {
          "base_uri": "https://localhost:8080/"
        },
        "id": "GtVgTF5CuC5-",
        "outputId": "20d0f93a-0fe6-4a0f-e4ce-ab117d20e790"
      },
      "execution_count": null,
      "outputs": [
        {
          "output_type": "stream",
          "name": "stdout",
          "text": [
            "Permutations of the list: [(1, 2, 3, 4), (1, 2, 4, 3), (1, 3, 2, 4), (1, 3, 4, 2), (1, 4, 2, 3), (1, 4, 3, 2), (2, 1, 3, 4), (2, 1, 4, 3), (2, 3, 1, 4), (2, 3, 4, 1), (2, 4, 1, 3), (2, 4, 3, 1), (3, 1, 2, 4), (3, 1, 4, 2), (3, 2, 1, 4), (3, 2, 4, 1), (3, 4, 1, 2), (3, 4, 2, 1), (4, 1, 2, 3), (4, 1, 3, 2), (4, 2, 1, 3), (4, 2, 3, 1), (4, 3, 1, 2), (4, 3, 2, 1)]\n"
          ]
        }
      ]
    },
    {
      "cell_type": "code",
      "source": [
        "#Write a Python program to get the difference between the two lists.\n",
        "x=[1,2,3,4,5,55]\n",
        "y=[2,8,10,15,26,30]\n",
        "diff=[]\n",
        "for i in x:\n",
        "  if i not in y:\n",
        "    diff.append(i)\n",
        "for j in y:\n",
        "  if j not in x:\n",
        "    diff.append(i)\n",
        "print('Difference between the two list:',diff)"
      ],
      "metadata": {
        "colab": {
          "base_uri": "https://localhost:8080/"
        },
        "id": "y9g27etQwaaq",
        "outputId": "9235f028-2c54-4255-e67c-385995eb6f55"
      },
      "execution_count": null,
      "outputs": [
        {
          "output_type": "stream",
          "name": "stdout",
          "text": [
            "Difference between the two list: [1, 3, 4, 5, 55, 55, 55, 55, 55, 55]\n"
          ]
        }
      ]
    },
    {
      "cell_type": "code",
      "source": [
        "x=[1,2,3,4,5,6]\n",
        "y=[3,4,5,10,12,16]\n",
        "def fun():\n",
        "  diff=[]\n",
        "  for i in x:\n",
        "    if i not in x:\n",
        "      diff.append(i)\n",
        "  for j in y:\n",
        "    if j not in x:\n",
        "      diff.append(i)\n",
        "print('Difference from two list:',diff)\n",
        "fun()\n"
      ],
      "metadata": {
        "colab": {
          "base_uri": "https://localhost:8080/"
        },
        "id": "q7e-1e5ku6pn",
        "outputId": "83c92d4f-9afc-4242-f311-f29e4ea1bac7"
      },
      "execution_count": null,
      "outputs": [
        {
          "output_type": "stream",
          "name": "stdout",
          "text": [
            "Difference from two list: [1, 3, 4, 5, 55, 55, 55, 55, 55, 55]\n"
          ]
        }
      ]
    },
    {
      "cell_type": "code",
      "source": [
        "#Write a Python program access the index of a list.\n",
        "x=[1,2,3,4]\n",
        "for i in range(len(x)):\n",
        "  print('Index',i,'=',x[i])"
      ],
      "metadata": {
        "colab": {
          "base_uri": "https://localhost:8080/"
        },
        "id": "M_W-guoezPPe",
        "outputId": "ea5a530b-0797-408b-9257-61890d0c32bc"
      },
      "execution_count": null,
      "outputs": [
        {
          "output_type": "stream",
          "name": "stdout",
          "text": [
            "Index 0 = 1\n",
            "Index 1 = 2\n",
            "Index 2 = 3\n",
            "Index 3 = 4\n"
          ]
        }
      ]
    },
    {
      "cell_type": "code",
      "source": [
        "x=[1,2,3,4]\n",
        "def fun():\n",
        "  for i in range(len(x)):\n",
        "    print('Index',i,'=',x[i])\n",
        "fun()"
      ],
      "metadata": {
        "colab": {
          "base_uri": "https://localhost:8080/"
        },
        "id": "293Z9H8az8J-",
        "outputId": "20662f00-73e2-49e1-a4c6-ce0aabaa6fb6"
      },
      "execution_count": null,
      "outputs": [
        {
          "output_type": "stream",
          "name": "stdout",
          "text": [
            "Index 0 = 1\n",
            "Index 1 = 2\n",
            "Index 2 = 3\n",
            "Index 3 = 4\n"
          ]
        }
      ]
    },
    {
      "cell_type": "code",
      "source": [
        "#Write a Python program to convert a list of characters into a string.\n",
        "x=['H', 'e', 'l', 'l', 'o']\n",
        "string=''\n",
        "for i in x:\n",
        "  string+=i\n",
        "print('Converted string:',string)"
      ],
      "metadata": {
        "colab": {
          "base_uri": "https://localhost:8080/"
        },
        "id": "vhMtmKZ3e2Zp",
        "outputId": "40f036fa-e1b2-4082-b4aa-099fc079f126"
      },
      "execution_count": 2,
      "outputs": [
        {
          "output_type": "stream",
          "name": "stdout",
          "text": [
            "Converted string: Hello\n"
          ]
        }
      ]
    },
    {
      "cell_type": "code",
      "source": [
        "x=['H', 'e', 'l', 'l', 'o']\n",
        "def fun():\n",
        "  string=''\n",
        "  for i in x:\n",
        "    string+=i\n",
        "  print('Converted string value:',string)\n",
        "fun()"
      ],
      "metadata": {
        "colab": {
          "base_uri": "https://localhost:8080/"
        },
        "id": "qjxpRU54f_Zk",
        "outputId": "2d8c68ba-747c-4ae9-dce0-d3cf8b5767bf"
      },
      "execution_count": 3,
      "outputs": [
        {
          "output_type": "stream",
          "name": "stdout",
          "text": [
            "Converted string value: Hello\n"
          ]
        }
      ]
    },
    {
      "cell_type": "code",
      "source": [
        "#Write a Python program to find the index of an item in a specified list.\n",
        "x = [10, 20, 30, 40, 50]\n",
        "find=20\n",
        "for i in range(len(x)):\n",
        "  if x[i]==find:\n",
        "    print('specified list ',find,'is:',i)\n",
        ""
      ],
      "metadata": {
        "colab": {
          "base_uri": "https://localhost:8080/"
        },
        "id": "94oDoG8xga1Q",
        "outputId": "513a3af2-f0c8-4dd3-faea-487782067a9f"
      },
      "execution_count": 6,
      "outputs": [
        {
          "output_type": "stream",
          "name": "stdout",
          "text": [
            "specified list  20 is: 1\n"
          ]
        }
      ]
    },
    {
      "cell_type": "code",
      "source": [
        "x = [10, 20, 30, 40, 50]\n",
        "def fun():\n",
        "  find=40\n",
        "  for i in range(len(x)):\n",
        "    if x[i]==find:\n",
        "      print('Speccified list',find,'is',i)\n",
        "fun()"
      ],
      "metadata": {
        "colab": {
          "base_uri": "https://localhost:8080/"
        },
        "id": "J8KGG_tBhKWD",
        "outputId": "9d088a3a-3e1e-4f3a-a0f4-3aec217dfa21"
      },
      "execution_count": 9,
      "outputs": [
        {
          "output_type": "stream",
          "name": "stdout",
          "text": [
            "Speccified list 40 is 3\n"
          ]
        }
      ]
    },
    {
      "cell_type": "code",
      "source": [
        "#Write a Python program to flatten a shallow list.\n",
        "x = [[1, 2], [3, 4], [5, 6]]\n",
        "shallow_list=[]\n",
        "for i in x:\n",
        "  for j in i:\n",
        "    shallow_list.append(j)\n",
        "print('Shallow list is:',shallow_list)"
      ],
      "metadata": {
        "colab": {
          "base_uri": "https://localhost:8080/"
        },
        "id": "raJItsfjhj2J",
        "outputId": "ba0f4c17-3e60-4be5-e8e0-5c5becb456f1"
      },
      "execution_count": 10,
      "outputs": [
        {
          "output_type": "stream",
          "name": "stdout",
          "text": [
            "Shallow list is: [1, 2, 3, 4, 5, 6]\n"
          ]
        }
      ]
    },
    {
      "cell_type": "code",
      "source": [
        "x = [[1, 2], [3, 4], [5, 6]]\n",
        "def fun():\n",
        "  shallow_list=[]\n",
        "  for i in x:\n",
        "    for j in i:\n",
        "      shallow_list.append(j)\n",
        "  print('Shallow list is',shallow_list)\n",
        "fun()\n"
      ],
      "metadata": {
        "colab": {
          "base_uri": "https://localhost:8080/"
        },
        "id": "1kCt2bV6iXDq",
        "outputId": "97dd56d2-1266-42c0-d909-210a3953908e"
      },
      "execution_count": 11,
      "outputs": [
        {
          "output_type": "stream",
          "name": "stdout",
          "text": [
            "Shallow list is [1, 2, 3, 4, 5, 6]\n"
          ]
        }
      ]
    },
    {
      "cell_type": "code",
      "source": [
        "#Write a Python program to append a list to the second list.\n",
        "x=[1,2,3,4]\n",
        "y=[2,3,4,5]\n",
        "x.append(y)\n",
        "print('After appending list are',x)"
      ],
      "metadata": {
        "colab": {
          "base_uri": "https://localhost:8080/"
        },
        "id": "rzwnnJI8iu3Z",
        "outputId": "2efea81f-203e-45bb-b0dc-cfff961659bd"
      },
      "execution_count": 12,
      "outputs": [
        {
          "output_type": "stream",
          "name": "stdout",
          "text": [
            "After appending list are [1, 2, 3, 4, [2, 3, 4, 5]]\n"
          ]
        }
      ]
    },
    {
      "cell_type": "code",
      "source": [
        "x=[1,2,3,4]\n",
        "y=[2,6,7,8]\n",
        "def fun():\n",
        "  x.append(y)\n",
        "  print('After apending list is:',x)\n",
        "fun()"
      ],
      "metadata": {
        "colab": {
          "base_uri": "https://localhost:8080/"
        },
        "id": "PcJlX8dKjDiY",
        "outputId": "5c3dc723-7de4-49ef-d519-b37b6a5557c6"
      },
      "execution_count": 13,
      "outputs": [
        {
          "output_type": "stream",
          "name": "stdout",
          "text": [
            "After apending list is: [1, 2, 3, 4, [2, 6, 7, 8]]\n"
          ]
        }
      ]
    },
    {
      "cell_type": "code",
      "source": [
        "#Write a Python program to select an item randomly from a list.\n",
        "import random\n",
        "x=[1,2,3,4,5]\n",
        "y= random.choice(x)\n",
        "print('Randomly choice:',y)"
      ],
      "metadata": {
        "colab": {
          "base_uri": "https://localhost:8080/"
        },
        "id": "ELqFX828jQpc",
        "outputId": "c0378341-5492-415d-b2f9-e8e5d4dc137d"
      },
      "execution_count": 15,
      "outputs": [
        {
          "output_type": "stream",
          "name": "stdout",
          "text": [
            "Randomly choice: 1\n"
          ]
        }
      ]
    },
    {
      "cell_type": "code",
      "source": [
        "import random\n",
        "x=[2,3,4,5,10]\n",
        "def fn():\n",
        "  y=random.choice(x)\n",
        "  print('Randomly choice is:',y)\n",
        "fn()"
      ],
      "metadata": {
        "colab": {
          "base_uri": "https://localhost:8080/"
        },
        "id": "mXBXeSZij1Ob",
        "outputId": "8d527bd2-444c-400d-d249-6bd7da44ec6b"
      },
      "execution_count": 17,
      "outputs": [
        {
          "output_type": "stream",
          "name": "stdout",
          "text": [
            "Randomly choice is: 4\n"
          ]
        }
      ]
    },
    {
      "cell_type": "code",
      "source": [
        "#Write a python program to check whether two lists are circularly identical.\n",
        "x=[12,13,15,16,20]\n",
        "y=[20,25,30,36,80]\n",
        "z=False\n",
        "if len(x)==len(y):\n",
        "  for i in range(len(y)):\n",
        "    xy=x[1:]+y[:1]\n",
        "    if xy==y:\n",
        "      z=True\n",
        "      break\n",
        "if z:\n",
        "  print('The lists are circularly identical')\n",
        "else:\n",
        "  print('The lists are not circularly identical')\n"
      ],
      "metadata": {
        "colab": {
          "base_uri": "https://localhost:8080/"
        },
        "id": "_2-mxv86kHko",
        "outputId": "2f5b2f5b-ebfb-4451-e213-e53bc00de150"
      },
      "execution_count": 18,
      "outputs": [
        {
          "output_type": "stream",
          "name": "stdout",
          "text": [
            "The lists are not circularly identical\n"
          ]
        }
      ]
    },
    {
      "cell_type": "code",
      "source": [
        "x=[1,2,3,4,5]\n",
        "y=[2,3,4,5,6]\n",
        "def fun():\n",
        "  z=False\n",
        "  if len(x)==len(y):\n",
        "    for i in range(len(y)):\n",
        "      xy=x[1:]+y[:1]\n",
        "      if xy==y:\n",
        "        z=True\n",
        "        break\n",
        "  if z:\n",
        "    print('The lists are circulaly identical')\n",
        "  else:\n",
        "    print('The list are not circularly identical')\n",
        "fun()"
      ],
      "metadata": {
        "colab": {
          "base_uri": "https://localhost:8080/"
        },
        "id": "iFhSqwiCprPk",
        "outputId": "5b3972b5-ebd6-4f9b-8514-132905816c94"
      },
      "execution_count": 19,
      "outputs": [
        {
          "output_type": "stream",
          "name": "stdout",
          "text": [
            "The list are not circularly identical\n"
          ]
        }
      ]
    },
    {
      "cell_type": "code",
      "source": [
        "#Write a Python program to find the second smallest number in a list.\n",
        "x=[1,2,5,7,9,10,-1,-2]\n",
        "x.sort()\n",
        "sl_list=x[1]\n",
        "print('The second smallest number is:',sl_list)"
      ],
      "metadata": {
        "colab": {
          "base_uri": "https://localhost:8080/"
        },
        "id": "KhTxWIr1sRot",
        "outputId": "f4c780e2-68e8-4bf8-a2e6-17f1ab534451"
      },
      "execution_count": 22,
      "outputs": [
        {
          "output_type": "stream",
          "name": "stdout",
          "text": [
            "The second smallest number is: -1\n"
          ]
        }
      ]
    },
    {
      "cell_type": "code",
      "source": [
        "x=[1,2,3,4,5,-1,-2]\n",
        "def fn():\n",
        "  x.sort()\n",
        "  sl_list=x[1]\n",
        "  print('The second smallest number is:',sl_list)\n",
        "fn()\n",
        "\n"
      ],
      "metadata": {
        "colab": {
          "base_uri": "https://localhost:8080/"
        },
        "id": "DICzCObksk9w",
        "outputId": "a32f93c3-afa4-41ce-b49e-c2fd3aa91ba1"
      },
      "execution_count": 23,
      "outputs": [
        {
          "output_type": "stream",
          "name": "stdout",
          "text": [
            "The second smallest number is: -1\n"
          ]
        }
      ]
    },
    {
      "cell_type": "code",
      "source": [
        "#Write a Python program to find the second largest number in a list.\n",
        "x=[18,20,26,30,35]\n",
        "x.sort()\n",
        "lg_list=x[-2]\n",
        "print('The second largest number is:',lg_list)\n"
      ],
      "metadata": {
        "colab": {
          "base_uri": "https://localhost:8080/"
        },
        "id": "Wk_ayoditBfB",
        "outputId": "a6824f09-9cef-48b5-f421-0b03b81bc666"
      },
      "execution_count": 24,
      "outputs": [
        {
          "output_type": "stream",
          "name": "stdout",
          "text": [
            "The second largest number is: 30\n"
          ]
        }
      ]
    },
    {
      "cell_type": "code",
      "source": [
        "x=[12,17,20,25,30]\n",
        "def fun():\n",
        "  x.sort()\n",
        "  lg_list=x[-2]\n",
        "  print('The seccond largest number is:',lg_list)\n",
        "fun()\n"
      ],
      "metadata": {
        "colab": {
          "base_uri": "https://localhost:8080/"
        },
        "id": "9crdnJR3tO7j",
        "outputId": "ff5008f9-0c8d-4643-b7f9-cb4ed1ba5027"
      },
      "execution_count": 25,
      "outputs": [
        {
          "output_type": "stream",
          "name": "stdout",
          "text": [
            "The seccond largest number is: 25\n"
          ]
        }
      ]
    },
    {
      "cell_type": "code",
      "source": [
        "#Write a Python program to get unique values from a list.\n",
        "x=[1,2,3,4,5,6,1,23,4,5,6]\n",
        "y=[]\n",
        "for i in x:\n",
        "  if i not in y:\n",
        "    y.append(i)\n",
        "print('The unique number is:',y)"
      ],
      "metadata": {
        "colab": {
          "base_uri": "https://localhost:8080/"
        },
        "id": "zlW2-u1dtk60",
        "outputId": "7ca929a7-5768-467b-9b88-bb62297b56e8"
      },
      "execution_count": 26,
      "outputs": [
        {
          "output_type": "stream",
          "name": "stdout",
          "text": [
            "The unique number is: [1, 2, 3, 4, 5, 6, 23]\n"
          ]
        }
      ]
    },
    {
      "cell_type": "code",
      "source": [
        "x=[1,2,3,4,5,6,8,10,1,2,3,4,5,6]\n",
        "def fun():\n",
        "  for i in x:\n",
        "    if i not in y:\n",
        "      y.append(i)\n",
        "  print('The unique number is:',y)\n",
        "fun()"
      ],
      "metadata": {
        "colab": {
          "base_uri": "https://localhost:8080/"
        },
        "id": "4di97QbyuIIB",
        "outputId": "90253676-452b-444d-faae-aa6b494dbfa6"
      },
      "execution_count": 27,
      "outputs": [
        {
          "output_type": "stream",
          "name": "stdout",
          "text": [
            "The unique number is: [1, 2, 3, 4, 5, 6, 23, 8, 10]\n"
          ]
        }
      ]
    },
    {
      "cell_type": "code",
      "source": [
        "#Write a Python program to get the frequency of the elements in a list.\n",
        "x=[1,2,3,4,5,6,1,2,3,4,5]\n",
        "y={}\n",
        "for i in x:\n",
        "  if i in y:\n",
        "    y[i]+=1\n",
        "  else:\n",
        "    y[i]=1\n",
        "print('The frequency of list:',y)"
      ],
      "metadata": {
        "colab": {
          "base_uri": "https://localhost:8080/"
        },
        "id": "Rn-5qDB9ulCC",
        "outputId": "b5a3338c-ff4b-4bf2-e245-457bdef276fe"
      },
      "execution_count": 31,
      "outputs": [
        {
          "output_type": "stream",
          "name": "stdout",
          "text": [
            "The frequency of list: {1: 2, 2: 2, 3: 2, 4: 2, 5: 2, 6: 1}\n"
          ]
        }
      ]
    },
    {
      "cell_type": "code",
      "source": [
        "x=[1,2,3,4,5,6,10,2,3,4,5]\n",
        "def fun():\n",
        "  y={}\n",
        "  for i in x:\n",
        "    if i in y:\n",
        "      y[i]+=1\n",
        "    else:\n",
        "      y[i]=1\n",
        "  print('The frequency list is:',y)\n",
        "fun()"
      ],
      "metadata": {
        "colab": {
          "base_uri": "https://localhost:8080/"
        },
        "id": "EHyw_bdxu4Hm",
        "outputId": "fe28dbaa-8167-4969-c219-445b15c6afcd"
      },
      "execution_count": 32,
      "outputs": [
        {
          "output_type": "stream",
          "name": "stdout",
          "text": [
            "The frequency list is: {1: 1, 2: 2, 3: 2, 4: 2, 5: 2, 6: 1, 10: 1}\n"
          ]
        }
      ]
    },
    {
      "cell_type": "code",
      "source": [
        "#Write a Python program to count the number of elements in a list within a specified range.\n",
        "x=[20,40,45,50,55,60,65,70,78,80,94,86,90]\n",
        "lower=20\n",
        "upper=70\n",
        "count=0\n",
        "for i in x:\n",
        "  if lower<=i<=upper:\n",
        "    count+=1\n",
        "print('The specified range between',lower,'and',upper,'=',count)\n"
      ],
      "metadata": {
        "colab": {
          "base_uri": "https://localhost:8080/"
        },
        "id": "iwtzZACpvfyJ",
        "outputId": "59ae5905-bbb3-431b-809d-9e1ea5af3df1"
      },
      "execution_count": 35,
      "outputs": [
        {
          "output_type": "stream",
          "name": "stdout",
          "text": [
            "The specified range between 20 and 70 = 8\n"
          ]
        }
      ]
    },
    {
      "cell_type": "code",
      "source": [
        "x=[20,40,45,50,55,60,65,70,78,80,94,86,90]\n",
        "def fun():\n",
        "  lower=30\n",
        "  upper=80\n",
        "  count=0\n",
        "  for i in x:\n",
        "    if lower<=i<=upper:\n",
        "      count+=1\n",
        "  print('The specified range between',lower,'and',upper,'=',count)\n",
        "fun()\n"
      ],
      "metadata": {
        "colab": {
          "base_uri": "https://localhost:8080/"
        },
        "id": "Y2Ff5jD986hV",
        "outputId": "a21d3bb5-11cd-4785-cae5-c1b605c9740c"
      },
      "execution_count": 36,
      "outputs": [
        {
          "output_type": "stream",
          "name": "stdout",
          "text": [
            "The specified range between 30 and 80 = 9\n"
          ]
        }
      ]
    },
    {
      "cell_type": "code",
      "source": [
        "#32. Write a Python program to check whether a list contains a sublist.\n",
        "x=[1,2,3,4,5]\n",
        "y=[3,4,5]\n",
        "z=False\n",
        "for i in range(len(x)):\n",
        "  if x[i:i+len(y)]==y:\n",
        "    z=True\n",
        "    break\n",
        "if z:\n",
        "  print('yeah i found sublist!!!')\n",
        "else:\n",
        "  print('uff no fouund....')"
      ],
      "metadata": {
        "colab": {
          "base_uri": "https://localhost:8080/"
        },
        "id": "npbxeN6U9dUQ",
        "outputId": "416c149f-26a1-4549-f239-cdbf5320f176"
      },
      "execution_count": 37,
      "outputs": [
        {
          "output_type": "stream",
          "name": "stdout",
          "text": [
            "yeah i found sublist!!!\n"
          ]
        }
      ]
    },
    {
      "cell_type": "code",
      "source": [
        "x=[1,2,3,4,5]\n",
        "y=[3,4,5]\n",
        "def fun():\n",
        "  z=False\n",
        "  for i in range(len(x)):\n",
        "    if x[i:i+len(y)]==y:\n",
        "      z=True\n",
        "      break\n",
        "  if z:\n",
        "    print('Yeah i found a sublist....')\n",
        "  else:\n",
        "    print('uffs no found....')\n",
        "fun()\n"
      ],
      "metadata": {
        "colab": {
          "base_uri": "https://localhost:8080/"
        },
        "id": "YUmd72mf-Wus",
        "outputId": "caa49112-39fb-4c9f-f6f8-be2908113905"
      },
      "execution_count": 39,
      "outputs": [
        {
          "output_type": "stream",
          "name": "stdout",
          "text": [
            "Yeah i found a sublist....\n"
          ]
        }
      ]
    },
    {
      "cell_type": "code",
      "source": [
        "#Write a Python program to generate all sublists of a list.\n",
        "x=[1,2,3,4]\n",
        "y=[]\n",
        "for i in range(len(x)):\n",
        "  for j in range(i+1,len(x)+1):\n",
        "    y.append(x[i:j])\n",
        "print('all sublist are given',y)"
      ],
      "metadata": {
        "colab": {
          "base_uri": "https://localhost:8080/"
        },
        "id": "vRRQMEIR-yn7",
        "outputId": "00076286-0b22-4845-a3a3-968489f6c9b9"
      },
      "execution_count": 40,
      "outputs": [
        {
          "output_type": "stream",
          "name": "stdout",
          "text": [
            "all sublist are given [[1], [1, 2], [1, 2, 3], [1, 2, 3, 4], [2], [2, 3], [2, 3, 4], [3], [3, 4], [4]]\n"
          ]
        }
      ]
    },
    {
      "cell_type": "code",
      "source": [
        "x=[1,2,3,4]\n",
        "def fun():\n",
        "  y=[]\n",
        "  for i in range(len(x)):\n",
        "    for j in range(i+1,len(x)+1):\n",
        "      y.append(x[i:j])\n",
        "  print('all sublist are given:',y)\n",
        "fun()"
      ],
      "metadata": {
        "colab": {
          "base_uri": "https://localhost:8080/"
        },
        "id": "KKTN6LXEBeuf",
        "outputId": "cba9a5ac-50ef-418a-abd5-e9c38e978849"
      },
      "execution_count": 41,
      "outputs": [
        {
          "output_type": "stream",
          "name": "stdout",
          "text": [
            "all sublist are given: [[1], [1, 2], [1, 2, 3], [1, 2, 3, 4], [2], [2, 3], [2, 3, 4], [3], [3, 4], [4]]\n"
          ]
        }
      ]
    },
    {
      "cell_type": "code",
      "source": [
        "#Write a Python program to create a list by concatenating a given list which range goes from 1 to n.\n",
        "x=['y','z']\n",
        "n=4\n",
        "y=[]\n",
        "for i in range(1,n+1):\n",
        "  for j in x:\n",
        "    y.append(j+str(i))\n",
        "print('create a list by concatenating:',y)"
      ],
      "metadata": {
        "colab": {
          "base_uri": "https://localhost:8080/"
        },
        "id": "LGLlmKjfB0jc",
        "outputId": "56454d89-158b-42ad-9224-d5114a80e1ed"
      },
      "execution_count": 45,
      "outputs": [
        {
          "output_type": "stream",
          "name": "stdout",
          "text": [
            "create a list by concatenating: ['y1', 'z1', 'y2', 'z2', 'y3', 'z3', 'y4', 'z4']\n"
          ]
        }
      ]
    },
    {
      "cell_type": "code",
      "source": [
        "x=['y','z']\n",
        "def fun():\n",
        "  n=4\n",
        "  y=[]\n",
        "  for i in range(1,n+1):\n",
        "    for j in x:\n",
        "      y.append(j+str(i))\n",
        "  print('create a list by concatenating',y)\n",
        "fun()\n"
      ],
      "metadata": {
        "colab": {
          "base_uri": "https://localhost:8080/"
        },
        "id": "npMME4B-CkgL",
        "outputId": "a5807759-ac42-405c-df3b-ce95a41b8e2d"
      },
      "execution_count": 46,
      "outputs": [
        {
          "output_type": "stream",
          "name": "stdout",
          "text": [
            "create a list by concatenating ['y1', 'z1', 'y2', 'z2', 'y3', 'z3', 'y4', 'z4']\n"
          ]
        }
      ]
    },
    {
      "cell_type": "code",
      "source": [
        "#36. Write a Python program to get variable unique identification number or string.\n",
        "x='omi'\n",
        "y=1234\n",
        "z=[x,y,z]\n",
        "print('Id of x:',id(x))\n",
        "print('Id of y:',id(y))\n",
        "print('Id of z:',id(z))"
      ],
      "metadata": {
        "colab": {
          "base_uri": "https://localhost:8080/"
        },
        "id": "-JfITv7SDWZU",
        "outputId": "61e2309e-228a-4089-cf1e-f5bc056f3b65"
      },
      "execution_count": 47,
      "outputs": [
        {
          "output_type": "stream",
          "name": "stdout",
          "text": [
            "Id of x: 136191399431456\n",
            "Id of y: 136191388803472\n",
            "Id of z: 136191386320576\n"
          ]
        }
      ]
    },
    {
      "cell_type": "code",
      "source": [
        "x='omi'\n",
        "y=1221\n",
        "z=[x,y,z]\n",
        "def fun():\n",
        "  print('Id of x:',id(x))\n",
        "  print('Id of y:',id(y))\n",
        "  print('Id of z:',id(z))\n",
        "fun()"
      ],
      "metadata": {
        "colab": {
          "base_uri": "https://localhost:8080/"
        },
        "id": "Z3LA_A0pFd0b",
        "outputId": "5cb8952f-587e-4267-b9df-661be8a4fac0"
      },
      "execution_count": 48,
      "outputs": [
        {
          "output_type": "stream",
          "name": "stdout",
          "text": [
            "Id of x: 136191399431456\n",
            "Id of y: 136191388806512\n",
            "Id of z: 136191391787840\n"
          ]
        }
      ]
    },
    {
      "cell_type": "code",
      "source": [
        "#Write a Python program to find common items from two lists.\n",
        "x=[1,2,3,4]\n",
        "y=[4,5,6,7]\n",
        "z=[]\n",
        "for i in x:\n",
        "  if i in y:\n",
        "    z.append(i)\n",
        "print('Common item....:',z)"
      ],
      "metadata": {
        "colab": {
          "base_uri": "https://localhost:8080/"
        },
        "id": "PiJAYU8TFwPw",
        "outputId": "b10f338a-c45d-4625-cd3f-71b091e9a50b"
      },
      "execution_count": 49,
      "outputs": [
        {
          "output_type": "stream",
          "name": "stdout",
          "text": [
            "Common item....: [4]\n"
          ]
        }
      ]
    },
    {
      "cell_type": "code",
      "source": [
        "x=[1,2,3,4]\n",
        "y=[4,5,6,7]\n",
        "def fun():\n",
        "  z=[]\n",
        "  for i in x:\n",
        "    if i in y:\n",
        "      z.append(i)\n",
        "  print('Common items.....',z)\n",
        "fun()\n"
      ],
      "metadata": {
        "colab": {
          "base_uri": "https://localhost:8080/"
        },
        "id": "y9oUdoWnGLKj",
        "outputId": "cc81dfb8-8d44-4a43-c45f-37d6573a2c3f"
      },
      "execution_count": 51,
      "outputs": [
        {
          "output_type": "stream",
          "name": "stdout",
          "text": [
            "Common items..... [4]\n"
          ]
        }
      ]
    },
    {
      "cell_type": "code",
      "source": [
        "#Write a Python program to change the position of every n-th value with the (n+1)th in a list.\n",
        "x=[1,2,3,4,5,6]\n",
        "for i in range(0,len(x)-1,2):\n",
        "  y=x[i]\n",
        "  x[i]=x[i+1]\n",
        "  x[i+1]=y\n",
        "print('Change the posiion of every time:',x)"
      ],
      "metadata": {
        "colab": {
          "base_uri": "https://localhost:8080/"
        },
        "id": "vsbpJ7jWGfvr",
        "outputId": "6ac243d0-28be-409a-e82c-260e1925f292"
      },
      "execution_count": 56,
      "outputs": [
        {
          "output_type": "stream",
          "name": "stdout",
          "text": [
            "Change the posiion of every time: [2, 1, 4, 3, 6, 5]\n"
          ]
        }
      ]
    },
    {
      "cell_type": "code",
      "source": [
        "x=[1,2,3,4,5]\n",
        "def fun():\n",
        "  for i in range(0,len(x)-1,2):\n",
        "    y=x[i]\n",
        "    x[i]=x[i+1]\n",
        "    x[i+1]=y\n",
        "  print('Change the position....',x)\n",
        "fun()"
      ],
      "metadata": {
        "colab": {
          "base_uri": "https://localhost:8080/"
        },
        "id": "09vGrau8HdnT",
        "outputId": "70e66c0c-9a1a-4dfb-8294-554d06a80f7d"
      },
      "execution_count": 57,
      "outputs": [
        {
          "output_type": "stream",
          "name": "stdout",
          "text": [
            "Change the position.... [2, 1, 4, 3, 5]\n"
          ]
        }
      ]
    },
    {
      "cell_type": "code",
      "source": [
        "#Write a Python program to convert a list of multiple integers into a single integer.\n",
        "x=[1,2,3,4,5,6]\n",
        "y=''\n",
        "for i in x:\n",
        "  y=y+str(i)\n",
        "print('single integer....',int(y))"
      ],
      "metadata": {
        "colab": {
          "base_uri": "https://localhost:8080/"
        },
        "id": "R-ZVhFtWIYD6",
        "outputId": "dfba3733-372f-4c32-e3e1-1562130e864a"
      },
      "execution_count": 58,
      "outputs": [
        {
          "output_type": "stream",
          "name": "stdout",
          "text": [
            "single integer.... 123456\n"
          ]
        }
      ]
    },
    {
      "cell_type": "code",
      "source": [
        "x=[1,2,3,4]\n",
        "def fun():\n",
        "  y=''\n",
        "  for i in x:\n",
        "    y=y+str(i)\n",
        "  print('single element....',int(y))\n",
        "fun()\n",
        "\n"
      ],
      "metadata": {
        "colab": {
          "base_uri": "https://localhost:8080/"
        },
        "id": "-_u4Dk9IIvEs",
        "outputId": "3934f94e-100c-4188-8679-492d36ae35da"
      },
      "execution_count": 61,
      "outputs": [
        {
          "output_type": "stream",
          "name": "stdout",
          "text": [
            "single element.... 1234\n"
          ]
        }
      ]
    },
    {
      "cell_type": "code",
      "source": [
        "# Write a Python program to split a list based on first character of word.\n",
        "x = ['apple', 'banana', 'apricot', 'cherry', 'blueberry', 'avocado']\n",
        "y={}\n",
        "for i in x:\n",
        "  z=i[0]\n",
        "  if z not in y:\n",
        "    y[z]=[]\n",
        "  y[z].append(i)\n",
        "print(y)"
      ],
      "metadata": {
        "colab": {
          "base_uri": "https://localhost:8080/"
        },
        "id": "h_WKeuI1I8AC",
        "outputId": "1568a7f0-cbf0-457c-df91-9346b1038d1c"
      },
      "execution_count": 65,
      "outputs": [
        {
          "output_type": "stream",
          "name": "stdout",
          "text": [
            "{'a': ['apple', 'apricot', 'avocado'], 'b': ['banana', 'blueberry'], 'c': ['cherry']}\n"
          ]
        }
      ]
    },
    {
      "cell_type": "code",
      "source": [],
      "metadata": {
        "id": "-84yodcSKljS"
      },
      "execution_count": null,
      "outputs": []
    },
    {
      "cell_type": "code",
      "source": [
        "# Write a Python program to split a list based on first character of word.\n",
        "x = ['apple', 'banana', 'apricot', 'cherry', 'blueberry', 'avocado']\n",
        "def fun():\n",
        "  y={}\n",
        "  for i in x:\n",
        "    z=i[0]\n",
        "    if z not in y:\n",
        "      y[z]=[]\n",
        "    y[z].append(i)\n",
        "  print(y)\n",
        "fun()\n"
      ],
      "metadata": {
        "colab": {
          "base_uri": "https://localhost:8080/"
        },
        "outputId": "2d7b51de-6fb2-40d4-fce8-57880231a394",
        "id": "T-rwUXj7LIG2"
      },
      "execution_count": 68,
      "outputs": [
        {
          "output_type": "stream",
          "name": "stdout",
          "text": [
            "{'a': ['apple', 'apricot', 'avocado'], 'b': ['banana', 'blueberry'], 'c': ['cherry']}\n"
          ]
        }
      ]
    },
    {
      "cell_type": "code",
      "source": [
        "#[10,15,12,18,17,29,23]ei list er vitor theke prime number find korbe using function\n",
        "#take a list and check wheather all the item from the given list is prime or not if all the items are prime the return true or false\n",
        "x=[10,15,12,18,17,29,23]\n",
        "def fun(number):\n",
        "  if n<2:\n",
        "    return False\n",
        "    for i in range(2,n):\n",
        "      if n%2==0:\n",
        "        return False\n",
        "  return True\n",
        "print('all are prime?',fun(x))\n"
      ],
      "metadata": {
        "colab": {
          "base_uri": "https://localhost:8080/"
        },
        "id": "Wt_BOD-CLkPq",
        "outputId": "18232edf-cd42-4fd7-bd00-78e312b4f6af"
      },
      "execution_count": 74,
      "outputs": [
        {
          "output_type": "stream",
          "name": "stdout",
          "text": [
            "all are prime? True\n"
          ]
        }
      ]
    },
    {
      "cell_type": "code",
      "source": [],
      "metadata": {
        "id": "QGrasA0XOQtB"
      },
      "execution_count": null,
      "outputs": []
    }
  ]
}